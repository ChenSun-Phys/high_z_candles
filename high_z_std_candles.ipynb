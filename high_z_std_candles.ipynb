{
 "cells": [
  {
   "cell_type": "code",
   "execution_count": 1,
   "id": "30702345",
   "metadata": {},
   "outputs": [],
   "source": [
    "# note on high redshift standardizable candles"
   ]
  },
  {
   "cell_type": "code",
   "execution_count": 1,
   "id": "3b467b24",
   "metadata": {},
   "outputs": [],
   "source": [
    "%load_ext autoreload\n",
    "%autoreload 2"
   ]
  },
  {
   "cell_type": "code",
   "execution_count": 43,
   "id": "c8f522ce",
   "metadata": {},
   "outputs": [],
   "source": [
    "#from MyUnit import NaturalUnit\n",
    "import numpy as np\n",
    "import sys,os\n",
    "import matplotlib\n",
    "import matplotlib.pyplot as plt\n",
    "from scipy.special import gamma \n",
    "from scipy.integrate import quad\n",
    "\n",
    "path = '/home/chen/Code/SN/axions_emcee_v7_LICM_38_realization/'\n",
    "sys.path.insert(1, path)\n",
    "import igm as ig\n",
    "import data as dt\n",
    "import chi2 as ch\n",
    "\n",
    "from ag_probs import omega_plasma"
   ]
  },
  {
   "cell_type": "code",
   "execution_count": 38,
   "id": "516cdc67",
   "metadata": {},
   "outputs": [],
   "source": [
    "data = dt.load_quasars(\"./likelihoods\", \"quasar.dat\")\n",
    "(qso_name_arr,\n",
    " qso_z_arr,\n",
    " qso_f2500_arr,\n",
    " qso_df2500_arr,\n",
    " qso_f2keV_arr,\n",
    " qso_df2keV_low_arr,\n",
    " qso_df2keV_up_arr) = data"
   ]
  },
  {
   "cell_type": "code",
   "execution_count": 76,
   "id": "5237536c",
   "metadata": {},
   "outputs": [],
   "source": [
    "# x = (ma, ga, OmL, h0, qso_gamma, qso_beta)\n",
    "x = (1e-15, 1e-11, 0.7, 0.7, 0.5, 0.5)\n",
    "\n",
    "# quasar kwargs\n",
    "quasars_kwargs = {'B': 1., # [nG]\n",
    "                  'mg': omega_plasma(1.6e-8), # omega_plasma(ne_IGM),\n",
    "                  's': 1., # [Mpc]\n",
    "                  'omega_X': 2000.,  \n",
    "                  'omega_UV': 4.96, \n",
    "                  'axion_ini_frac': 0.,\n",
    "                  'smoothed': False,\n",
    "                  'redshift_dependent': True,\n",
    "                  'method': 'simps',\n",
    "                  'prob_func': 'norm_log',\n",
    "                  'Nz': 101}\n",
    "\n"
   ]
  },
  {
   "cell_type": "code",
   "execution_count": 77,
   "id": "a083d516",
   "metadata": {},
   "outputs": [
    {
     "name": "stdout",
     "output_type": "stream",
     "text": [
      "CPU times: user 1.27 s, sys: 0 ns, total: 1.27 s\n",
      "Wall time: 1.2 s\n"
     ]
    },
    {
     "data": {
      "text/plain": [
       "209603600.857891"
      ]
     },
     "execution_count": 77,
     "metadata": {},
     "output_type": "execute_result"
    }
   ],
   "source": [
    "%%time\n",
    "# for loop\n",
    "ch.chi2_quasars(x, data=data, **quasars_kwargs)"
   ]
  },
  {
   "cell_type": "code",
   "execution_count": 78,
   "id": "1e865952",
   "metadata": {},
   "outputs": [
    {
     "name": "stdout",
     "output_type": "stream",
     "text": [
      "CPU times: user 1.16 s, sys: 0 ns, total: 1.16 s\n",
      "Wall time: 1.1 s\n"
     ]
    },
    {
     "data": {
      "text/plain": [
       "209603600.8578905"
      ]
     },
     "execution_count": 78,
     "metadata": {},
     "output_type": "execute_result"
    }
   ],
   "source": [
    "%%time\n",
    "# vectorized\n",
    "ch.chi2_quasars(x, data=data, vectorize=True, **quasars_kwargs)"
   ]
  }
 ],
 "metadata": {
  "kernelspec": {
   "display_name": "Python 3",
   "language": "python",
   "name": "python3"
  },
  "language_info": {
   "codemirror_mode": {
    "name": "ipython",
    "version": 3
   },
   "file_extension": ".py",
   "mimetype": "text/x-python",
   "name": "python",
   "nbconvert_exporter": "python",
   "pygments_lexer": "ipython3",
   "version": "3.8.11"
  }
 },
 "nbformat": 4,
 "nbformat_minor": 5
}
